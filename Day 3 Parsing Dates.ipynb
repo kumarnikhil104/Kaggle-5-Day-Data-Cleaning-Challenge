{
  "cells": [
    {
      "metadata": {
        "_cell_guid": "b91a74ba-85f4-486e-b5f9-d0898f0626bf",
        "_uuid": "6ac53f18b4f4ec0fc44348cedb5d1c319fa127c0"
      },
      "cell_type": "markdown",
      "source": "### Previous days\n\n* [Day 1: Handling missing values](https://www.kaggle.com/rtatman/data-cleaning-challenge-handling-missing-values)\n* [Day 2: Scaling and normalization](https://www.kaggle.com/rtatman/data-cleaning-challenge-scale-and-normalize-data)\n___\nWelcome to day 3 of the 5-Day Data Challenge! Today, we're going to work with dates. To get started, click the blue \"Fork Notebook\" button in the upper, right hand corner. This will create a private copy of this notebook that you can edit and play with. Once you're finished with the exercises, you can choose to make your notebook public to share with others. :)\n\n> **Your turn!** As we work through this notebook, you'll see some notebook cells (a block of either code or text) that has \"Your Turn!\" written in it. These are exercises for you to do to help cement your understanding of the concepts we're talking about. Once you've written the code to answer a specific question, you can run the code by clicking inside the cell (box with code in it) with the code you want to run and then hit CTRL + ENTER (CMD + ENTER on a Mac). You can also click in a cell and then click on the right \"play\" arrow to the left of the code. If you want to run all the code in your notebook, you can use the double, \"fast forward\" arrows at the bottom of the notebook editor.\n\nHere's what we're going to do today:\n\n* [Get our environment set up](#Get-our-environment-set-up)\n* [Check the data type of our date column](#Check-the-data-type-of-our-date-column)\n* [Convert our date columns to datetime](#Convert-our-date-columns-to-datetime)\n* [Select just the day of the month from our column](#Select-just-the-day-of-the-month-from-our-column)\n* [Plot the day of the month to check the date parsing](#Plot-the-day-of-the-month-to-the-date-parsing)\n\nLet's get started!"
    },
    {
      "metadata": {
        "_cell_guid": "5cd5061f-ae30-4837-a53b-690ffd5c5830",
        "_uuid": "9d82bf13584b8e682962fbb96131f2447d741679"
      },
      "cell_type": "markdown",
      "source": "# Get our environment set up\n________\n\nThe first thing we'll need to do is load in the libraries and datasets we'll be using. For today, we'll be working with two datasets: one containing information on earthquakes that occured between 1965 and 2016, and another that contains information on landslides that occured between 2007 and 2016.\n\n> **Important!** Make sure you run this cell yourself or the rest of your code won't work!"
    },
    {
      "metadata": {
        "collapsed": true,
        "_cell_guid": "135a7804-b5f5-40aa-8657-4a15774e3666",
        "_uuid": "835cbe0834b935fb0fd40c75b9c39454836f4d5f",
        "trusted": false
      },
      "cell_type": "code",
      "source": "# modules we'll use\nimport pandas as pd\nimport numpy as np\nimport seaborn as sns\nimport datetime\n\n# read in our data\nearthquakes = pd.read_csv(\"../input/earthquake-database/database.csv\")\nlandslides = pd.read_csv(\"../input/landslide-events/catalog.csv\")\nvolcanos = pd.read_csv(\"../input/volcanic-eruptions/database.csv\")\n\n# set seed for reproducibility\nnp.random.seed(0)",
      "execution_count": null,
      "outputs": []
    },
    {
      "metadata": {
        "_cell_guid": "604ac3a4-b1d9-4264-b312-4bbeecdeec00",
        "_uuid": "03ce3b4afe87d98f777172c2c7be066a66a0b237"
      },
      "cell_type": "markdown",
      "source": "Now we're ready to look at some dates! (If you like, you can take this opportunity to take a look at some of the data.)"
    },
    {
      "metadata": {
        "_cell_guid": "f9a14c6a-42ed-44a5-97e2-abba181ca3d6",
        "_uuid": "03442c933b64c4cad185245049574ad2a4f00dc7",
        "trusted": false,
        "collapsed": true
      },
      "cell_type": "code",
      "source": "earthquakes.head()",
      "execution_count": null,
      "outputs": []
    },
    {
      "metadata": {
        "_cell_guid": "5068e9ad-42a4-438c-aa06-d931473a522a",
        "_uuid": "8bab23f2b15b62bd60fdc1bbe2174d5a5b8cd219",
        "trusted": false,
        "collapsed": true
      },
      "cell_type": "code",
      "source": "landslides.head()",
      "execution_count": null,
      "outputs": []
    },
    {
      "metadata": {
        "_cell_guid": "e20bb855-d52e-4b45-a9b7-5b3760d8ff0a",
        "_uuid": "f77382b78577a34eee1f65c0ca00a8872e0c04ab"
      },
      "cell_type": "markdown",
      "source": "# Check the data type of our date column\n___\n\nFor this part of the challenge, I'll be working with the `date` column from the `landslides` dataframe. The very first thing I'm going to do is take a peek at the first few rows to make sure it actually looks like it contains dates."
    },
    {
      "metadata": {
        "_cell_guid": "463e414a-7c3e-4d00-b43d-d0e842979862",
        "_uuid": "8168b45d546e78031e4298cb8a4590411385c2d6",
        "trusted": false,
        "collapsed": true
      },
      "cell_type": "code",
      "source": "# print the first few rows of the date column\nprint(landslides['date'].head())",
      "execution_count": null,
      "outputs": []
    },
    {
      "metadata": {
        "_cell_guid": "0409d98b-8c32-4490-a7a2-c1583b2ae4cb",
        "_uuid": "601f4faa997f1069b35f14d712bb6314f8cbd448"
      },
      "cell_type": "markdown",
      "source": "Yep, those are dates! But just because I, a human, can tell that these are dates doesn't mean that Python knows that they're dates.<font color = 'red'> Notice that the at the bottom of the output of `head()`, you can see that it says that the data type of this  column is `object`. <font color = ' black'>\n\n> Pandas uses the \"object\" dtype for storing various types of data types,  <font color = 'green '>but most often when you see a column with the dtype \"object\" it will have strings in it.  <font color = 'black '>\n\nIf you check the pandas dtype documentation [here](http://pandas.pydata.org/pandas-docs/stable/basics.html#dtypes), you'll notice that there's also a specific `datetime64` dtypes. Because the dtype of our column is `object` rather than `datetime64`, we can tell that Python doesn't know that this column contains dates.\n\n## We can also look at just the dtype of your column without printing the first few rows if we like: "
    },
    {
      "metadata": {
        "_cell_guid": "d568a453-5b95-4db6-ab86-e74e630a250a",
        "_uuid": "cc76da0492b27ed55f6f819ecf6b44a7f7dcc47f",
        "trusted": false,
        "collapsed": true
      },
      "cell_type": "code",
      "source": "# check the data type of our date column\nlandslides['date'].dtype",
      "execution_count": null,
      "outputs": []
    },
    {
      "metadata": {
        "_cell_guid": "7619794d-9680-459f-b776-0764b19dc473",
        "_uuid": "0466780bc0450aa9ef729b1da3f8aac048ee6f68"
      },
      "cell_type": "markdown",
      "source": "You may have to check the [numpy documentation](https://docs.scipy.org/doc/numpy-1.12.0/reference/generated/numpy.dtype.kind.html#numpy.dtype.kind) to match the letter code to the dtype of the object. \"O\" is the code for \"object\", so we can see that these two methods give us the same information."
    },
    {
      "metadata": {
        "_cell_guid": "f039ba0a-7042-473f-b12b-c8a8bf40a563",
        "_uuid": "049da6c620038cc19f9e71279db9bb4942bb8e48",
        "trusted": false,
        "collapsed": true
      },
      "cell_type": "code",
      "source": "# Your turn! Check the data type of the Date column in the earthquakes dataframe\n# (note the capital 'D' in date!)\nprint(earthquakes.Date.head(5))",
      "execution_count": null,
      "outputs": []
    },
    {
      "metadata": {
        "_cell_guid": "38cc2272-3a64-481d-8a5a-b7c2ba55a4c5",
        "_uuid": "06ed45a852989dfd54acb855df2454ec43f01e0d"
      },
      "cell_type": "markdown",
      "source": "# Convert our date columns to datetime\n___\n\nNow that we know that our date column isn't being recognized as a date, it's time to convert it so that it *is* recognized as a date.  <font color = 'red '>This is called \"parsing dates\" because we're taking in a string and identifying its component parts.\n <font color = 'black '>\nWe can pandas what the format of our dates are with a guide called as [\"strftime directive\", which you can find more information on at this link](http://strftime.org/). The basic idea is that you need to point out which parts of the date are where and what punctuation is between them. There are [lots of possible parts of a date](http://strftime.org/), <font color = 'red '> but the most common are `%d` for day, `%m` for month, `%y` for a two-digit year and `%Y` for a four digit year.\n\nSome examples:\n <font color = ' black'>\n * 1/17/07 has the format \"%m/%d/%y\"\n * 17-1-2007 has the format \"%d-%m-%Y\"\n \n Looking back up at the head of the `date` column in the landslides dataset, we can see that it's in the format \"month/day/two-digit year\", so we can use the same syntax as the first example to parse in our dates: "
    },
    {
      "metadata": {
        "collapsed": true,
        "_cell_guid": "69a9f71e-bdbd-4d91-976f-0f8aec4c7009",
        "_uuid": "512a2b892c6c0959d98c5cf1534d912547d7f257",
        "scrolled": false,
        "trusted": false
      },
      "cell_type": "code",
      "source": "# create a new column, date_parsed, with the parsed dates\nlandslides['date_parsed'] = pd.to_datetime(landslides['date'], format = \"%m/%d/%y\")",
      "execution_count": null,
      "outputs": []
    },
    {
      "metadata": {
        "_cell_guid": "369069b9-bd37-413c-9ab7-81661d241d92",
        "_uuid": "00d8939c4f49f52a71162fa07161d22f57550c58"
      },
      "cell_type": "markdown",
      "source": "Now when I check the first few rows of the new column, I can see that the dtype is `datetime64`. I can also see that my dates have been slightly rearranged so that they fit the default order datetime objects (year-month-day)."
    },
    {
      "metadata": {
        "_cell_guid": "6f87af7e-4577-4cb2-bb21-eded9d80f445",
        "_uuid": "38d88e73df0c5c36e74698c135a2ef2ba3ded154",
        "trusted": false,
        "collapsed": true
      },
      "cell_type": "code",
      "source": "# print the first few rows\nlandslides['date_parsed'].head()",
      "execution_count": null,
      "outputs": []
    },
    {
      "metadata": {
        "_cell_guid": "19217d6d-9c17-4e84-8750-34fb152ea9ea",
        "_uuid": "82b628147746feb0776e216610bcd8a6022afd45"
      },
      "cell_type": "markdown",
      "source": "Now that our dates are parsed correctly, we can interact with them in useful ways."
    },
    {
      "metadata": {
        "_cell_guid": "32e0ae2b-72ce-4ea9-85d2-be9d8b5ab9bc",
        "_uuid": "e7e0753a637b95d437ed5388afa8fb6b152a431c",
        "trusted": false,
        "collapsed": true
      },
      "cell_type": "code",
      "source": "# Your turn! Create a new column, date_parsed, in the earthquakes\n# dataset that has correctly parsed dates in it. (Don't forget to \n# double-check that the dtype is correct!)\nearthquakes['date_parsed'] = pd.to_datetime(earthquakes.Date,infer_datetime_format=True)  # if it is True, panda attempt to infer the format of the datetime strings,\n'''\nAnother methods to parse the date tieme are :\nearthquakes = earthquakes[earthquakes.Date != earthquakes.Time]\n'''\nearthquakes.head()  # look a new column 'date_parsed' has been added at the end of the data frame.",
      "execution_count": null,
      "outputs": []
    },
    {
      "metadata": {
        "_cell_guid": "86f98fe8-87ec-4aab-a1cb-accde25ae0ca",
        "_uuid": "8fd9a5a6da0005e6624176e90515bdc40d99ae4e"
      },
      "cell_type": "markdown",
      "source": "# Select just the day of the month from our column\n___\n\n\"Ok, Rachael,\" you may be saying at this point, \"This messing around with data types is fine, I guess, but what's the *point*?\" To answer your question, let's try to get information on the day of the month that a landslide occured on from the original \"date\" column, which has an \"object\" dtype: "
    },
    {
      "metadata": {
        "_cell_guid": "eb0a410f-7877-484f-94b6-c3826e96aa2a",
        "_uuid": "f9afd282db0149e26949d53512d7aa46891f250f",
        "scrolled": true,
        "trusted": false,
        "collapsed": true
      },
      "cell_type": "code",
      "source": "# try to get the day of the month from the date column\nday_of_month_landslides = landslides['date'].dt.day",
      "execution_count": null,
      "outputs": []
    },
    {
      "metadata": {
        "_cell_guid": "c62508a7-67db-438f-b944-92df9e2bf850",
        "_uuid": "e387aa01cde1e5af4d106ad6d44b1bde1d156e1e"
      },
      "cell_type": "markdown",
      "source": "We got an error! <font color ='red'>The important part to look at here is the part at the very end that says `AttributeError: Can only use .dt accessor with datetimelike values`. <font color ='black'>We're getting this error because the **dt.day()** function doesn't know how to deal with a column with the dtype \"object\". Even though our dataframe has dates in it, because they haven't been parsed we can't interact with them in a useful way.\n\nLuckily, we have a column that we parsed earlier , and that lets us get the day of the month out no problem:"
    },
    {
      "metadata": {
        "_cell_guid": "5946a9c6-80ca-465e-bfb4-af7bd8716ec6",
        "_uuid": "9132dcab4ccfc1f0cc119ca1ecd554b3bdece3f0",
        "trusted": false,
        "collapsed": true
      },
      "cell_type": "code",
      "source": "# get the day of the month from the date_parsed column\nday_of_month_landslides = landslides['date_parsed'].dt.day\nday_of_month_landslides.tail()",
      "execution_count": null,
      "outputs": []
    },
    {
      "metadata": {
        "_cell_guid": "d539fa31-24ea-439e-803d-9fab80339ea6",
        "_uuid": "54cda16eb0c4f77bd77dbbcbdec757016eefe4a6",
        "trusted": false,
        "collapsed": true
      },
      "cell_type": "code",
      "source": "# Your turn! get the day of the month from the date_parsed column\nday_from_parsed_date = earthquakes.date_parsed.dt.day \nday_from_parsed_date.head()",
      "execution_count": null,
      "outputs": []
    },
    {
      "metadata": {
        "_cell_guid": "131dec71-1da4-4dc1-8e96-f91ed22bc9c3",
        "_uuid": "919cdbd2c166287a9b9c591e7d3e357dd1b68006"
      },
      "cell_type": "markdown",
      "source": "# Plot the day of the month to check the date parsing\n___\n\n<font color ='red'>One of the biggest dangers in parsing dates is mixing up the months and days. <font color ='black'>The **to_datetime()** function does have very helpful error messages, but it doesn't hurt to double-check that the days of the month we've extracted make sense. \n\nTo do this, let's plot a histogram of the days of the month. We expect it to have values between 1 and 31 and, since there's no reason to suppose the landslides are more common on some days of the month than others, a relatively even distribution. (With a dip on 31 because not all months have 31 days.) Let's see if that's the case:"
    },
    {
      "metadata": {
        "_cell_guid": "6bcf863a-5aa9-48fe-b90b-a74b8e22ba06",
        "_uuid": "158ae77588266631060947c78eada47ab3d4b7dc",
        "trusted": false,
        "collapsed": true
      },
      "cell_type": "code",
      "source": "# remove na's\nday_of_month_landslides = day_of_month_landslides.dropna()\n\n# plot the day of the month\nsns.distplot(day_of_month_landslides, kde=False, bins=31)",
      "execution_count": null,
      "outputs": []
    },
    {
      "metadata": {
        "_cell_guid": "cf9a7b2e-0de7-40ce-b453-a29f4bd8478c",
        "_uuid": "1a39e52da6c5eb7ef0deeb2285c9d1602b6f36e4"
      },
      "cell_type": "markdown",
      "source": "Yep, it looks like we did parse our dates correctly & this graph makes good sense to me. Why don't you take a turn checking the dates you parsed earlier?"
    },
    {
      "metadata": {
        "_cell_guid": "4e967284-a00f-4918-aa35-594704554b03",
        "_uuid": "3fad63b7f16333a777c76733b3c8647818f6f1b7",
        "trusted": false,
        "collapsed": true
      },
      "cell_type": "code",
      "source": "# Your turn! Plot the days of the month from your\n# earthquake dataset and make sure they make sense.\n\ndays_for_plotting = earthquakes.date_parsed.dropna() # dropping the NA values\nprint(days_for_plotting.shape)\nsns.distplot(day_of_month_earthquakes, kde=False, bins=31)",
      "execution_count": null,
      "outputs": []
    },
    {
      "metadata": {
        "_cell_guid": "b4f37fce-4d08-409e-bbbd-6a26c3bbc6ee",
        "_uuid": "52b0af56e3c77db96056e9acd785f8f435f7caf5"
      },
      "cell_type": "markdown",
      "source": "And that's it for today! If you have any questions, be sure to post them in the comments below or [on the forums](https://www.kaggle.com/questions-and-answers). \n\nRemember that your notebook is private by default, and in order to share it with other people or ask for help with it, you'll need to make it public. First, you'll need to save a version of your notebook that shows your current work by hitting the \"Commit & Run\" button. (Your work is saved automatically, but versioning your work lets you go back and look at what it was like at the point you saved it. It also lets you share a nice compiled notebook instead of just the raw code.) Then, once your notebook is finished running, you can go to the Settings tab in the panel to the left (you may have to expand it by hitting the [<] button next to the \"Commit & Run\" button) and setting the \"Visibility\" dropdown to \"Public\".\n\n# More practice!\n___\n\nIf you're interested in graphing time series, [check out this Learn tutorial](https://www.kaggle.com/residentmario/time-series-plotting-optional).\n\nYou can also look into passing columns that you know have dates in them to the `parse_dates` argument in `read_csv`. (The documention [is here](https://pandas.pydata.org/pandas-docs/stable/generated/pandas.read_csv.html).) Do note that this method can be very slow, but depending on your needs it may sometimes be handy to use.\n\nFor an extra challenge, you can try try parsing the column `Last Known Eruption` from the `volcanos` dataframe. This column contains a mixture of text (\"Unknown\") and years both before the common era (BCE, also known as BC) and in the common era (CE, also known as AD)."
    },
    {
      "metadata": {
        "collapsed": true,
        "_cell_guid": "6aef4ff6-1cd3-4df1-94f1-68cc25278d8f",
        "_uuid": "b647eb891e9818d466b484e45e00f9d95ce585b4",
        "trusted": false
      },
      "cell_type": "code",
      "source": "volcanos['Last Known Eruption'].sample(5)",
      "execution_count": null,
      "outputs": []
    }
  ],
  "metadata": {
    "language_info": {
      "codemirror_mode": {
        "version": 3,
        "name": "ipython"
      },
      "nbconvert_exporter": "python",
      "mimetype": "text/x-python",
      "version": "3.6.4",
      "pygments_lexer": "ipython3",
      "file_extension": ".py",
      "name": "python"
    },
    "kernelspec": {
      "display_name": "Python 3",
      "language": "python",
      "name": "python3"
    }
  },
  "nbformat": 4,
  "nbformat_minor": 1
}